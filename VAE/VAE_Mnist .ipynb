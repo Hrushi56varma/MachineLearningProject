{
  "nbformat": 4,
  "nbformat_minor": 0,
  "metadata": {
    "colab": {
      "name": "VAE_Mnist.ipynb",
      "provenance": []
    },
    "kernelspec": {
      "name": "python3",
      "display_name": "Python 3"
    }
  },
  "cells": [
    {
      "cell_type": "code",
      "metadata": {
        "id": "FW1H58Z8x5PR"
      },
      "source": [
        "from IPython import display\r\n",
        "\r\n",
        "import glob\r\n",
        "import imageio\r\n",
        "import matplotlib.pyplot as plt\r\n",
        "import numpy as np\r\n",
        "import PIL\r\n",
        "import tensorflow as tf\r\n",
        "import tensorflow_probability as tfp\r\n",
        "import time"
      ],
      "execution_count": 1,
      "outputs": []
    },
    {
      "cell_type": "code",
      "metadata": {
        "colab": {
          "base_uri": "https://localhost:8080/"
        },
        "id": "gA8wdBS9VDqf",
        "outputId": "9265595c-19b0-4312-876b-e125dd426807"
      },
      "source": [
        "(train_images, _), (test_images, _) = tf.keras.datasets.mnist.load_data()"
      ],
      "execution_count": 2,
      "outputs": [
        {
          "output_type": "stream",
          "text": [
            "Downloading data from https://storage.googleapis.com/tensorflow/tf-keras-datasets/mnist.npz\n",
            "11493376/11490434 [==============================] - 0s 0us/step\n"
          ],
          "name": "stdout"
        }
      ]
    },
    {
      "cell_type": "code",
      "metadata": {
        "id": "nRfzZomjVFm7"
      },
      "source": [
        "def preprocess_images(images):\r\n",
        "  images = images.reshape((images.shape[0], 28, 28, 1)) / 255.\r\n",
        "  return np.where(images > .5, 1.0, 0.0).astype('float32')\r\n",
        "\r\n",
        "train_images = preprocess_images(train_images)\r\n",
        "test_images = preprocess_images(test_images)"
      ],
      "execution_count": 3,
      "outputs": []
    },
    {
      "cell_type": "code",
      "metadata": {
        "id": "0OJW-a1PVHkf"
      },
      "source": [
        "train_size = 60000\r\n",
        "batch_size = 64\r\n",
        "test_size = 10000"
      ],
      "execution_count": 4,
      "outputs": []
    },
    {
      "cell_type": "code",
      "metadata": {
        "id": "lD82rNisVJxr"
      },
      "source": [
        "train_dataset = (tf.data.Dataset.from_tensor_slices(train_images)\r\n",
        "                 .shuffle(train_size).batch(batch_size))\r\n",
        "test_dataset = (tf.data.Dataset.from_tensor_slices(test_images)\r\n",
        "                .shuffle(test_size).batch(batch_size))"
      ],
      "execution_count": 5,
      "outputs": []
    },
    {
      "cell_type": "code",
      "metadata": {
        "id": "55aQ-ZPEVLmX"
      },
      "source": [
        "class CVAE(tf.keras.Model):\r\n",
        "  \"\"\"Convolutional variational autoencoder.\"\"\"\r\n",
        "\r\n",
        "  def __init__(self, latent_dim):\r\n",
        "    super(CVAE, self).__init__()\r\n",
        "    self.latent_dim = latent_dim\r\n",
        "    self.encoder = tf.keras.Sequential(\r\n",
        "        [\r\n",
        "            tf.keras.layers.InputLayer(input_shape=(28, 28, 1)),\r\n",
        "            tf.keras.layers.Conv2D(\r\n",
        "                filters=32, kernel_size=3, strides=(2, 2), activation='relu'),\r\n",
        "            tf.keras.layers.Conv2D(\r\n",
        "                filters=64, kernel_size=3, strides=(2, 2), activation='relu'),\r\n",
        "            tf.keras.layers.Flatten(),\r\n",
        "            # No activation\r\n",
        "            tf.keras.layers.Dense(latent_dim + latent_dim),\r\n",
        "        ]\r\n",
        "    )\r\n",
        "\r\n",
        "    self.decoder = tf.keras.Sequential(\r\n",
        "        [\r\n",
        "            tf.keras.layers.InputLayer(input_shape=(latent_dim,)),\r\n",
        "            tf.keras.layers.Dense(units=7*7*32, activation=tf.nn.relu),\r\n",
        "            tf.keras.layers.Reshape(target_shape=(7, 7, 32)),\r\n",
        "            tf.keras.layers.Conv2DTranspose(\r\n",
        "                filters=64, kernel_size=3, strides=2, padding='same',\r\n",
        "                activation='relu'),\r\n",
        "            tf.keras.layers.Conv2DTranspose(\r\n",
        "                filters=32, kernel_size=3, strides=2, padding='same',\r\n",
        "                activation='relu'),\r\n",
        "            # No activation\r\n",
        "            tf.keras.layers.Conv2DTranspose(\r\n",
        "                filters=1, kernel_size=3, strides=1, padding='same'),\r\n",
        "        ]\r\n",
        "    )\r\n",
        "\r\n",
        "  @tf.function\r\n",
        "  def sample(self, eps=None):\r\n",
        "    if eps is None:\r\n",
        "      eps = tf.random.normal(shape=(100, self.latent_dim))\r\n",
        "    return self.decode(eps, apply_sigmoid=True)\r\n",
        "\r\n",
        "  def encode(self, x):\r\n",
        "    mean, logvar = tf.split(self.encoder(x), num_or_size_splits=2, axis=1)\r\n",
        "    return mean, logvar\r\n",
        "\r\n",
        "  def reparameterize(self, mean, logvar):\r\n",
        "    eps = tf.random.normal(shape=mean.shape)\r\n",
        "    return eps * tf.exp(logvar * .5) + mean\r\n",
        "\r\n",
        "  def decode(self, z, apply_sigmoid=False):\r\n",
        "    logits = self.decoder(z)\r\n",
        "    if apply_sigmoid:\r\n",
        "      probs = tf.sigmoid(logits)\r\n",
        "      return probs\r\n",
        "    return logits"
      ],
      "execution_count": 6,
      "outputs": []
    },
    {
      "cell_type": "code",
      "metadata": {
        "id": "cOasm5jrVR0z"
      },
      "source": [
        "optimizer = tf.keras.optimizers.Adam(1e-4)\r\n",
        "\r\n",
        "\r\n",
        "def log_normal_pdf(sample, mean, logvar, raxis=1):\r\n",
        "  log2pi = tf.math.log(2. * np.pi)\r\n",
        "  return tf.reduce_sum(\r\n",
        "      -.5 * ((sample - mean) ** 2. * tf.exp(-logvar) + logvar + log2pi),\r\n",
        "      axis=raxis)\r\n",
        "\r\n",
        "\r\n",
        "def compute_loss(model, x):\r\n",
        "  mean, logvar = model.encode(x)\r\n",
        "  z = model.reparameterize(mean, logvar)\r\n",
        "  x_logit = model.decode(z)\r\n",
        "  cross_ent = tf.nn.sigmoid_cross_entropy_with_logits(logits=x_logit, labels=x)\r\n",
        "  logpx_z = -tf.reduce_sum(cross_ent, axis=[1, 2, 3])\r\n",
        "  logpz = log_normal_pdf(z, 0., 0.)\r\n",
        "  logqz_x = log_normal_pdf(z, mean, logvar)\r\n",
        "  return -tf.reduce_mean(logpx_z + logpz - logqz_x)\r\n",
        "\r\n",
        "\r\n",
        "@tf.function\r\n",
        "def train_step(model, x, optimizer):\r\n",
        "  \"\"\"Executes one training step and returns the loss.\r\n",
        "\r\n",
        "  This function computes the loss and gradients, and uses the latter to\r\n",
        "  update the model's parameters.\r\n",
        "  \"\"\"\r\n",
        "  with tf.GradientTape() as tape:\r\n",
        "    loss = compute_loss(model, x)\r\n",
        "  gradients = tape.gradient(loss, model.trainable_variables)\r\n",
        "  optimizer.apply_gradients(zip(gradients, model.trainable_variables))"
      ],
      "execution_count": 7,
      "outputs": []
    },
    {
      "cell_type": "code",
      "metadata": {
        "id": "mHEmU6ULVVRj"
      },
      "source": [
        "epochs = 20\r\n",
        "# set the dimensionality of the latent space to a plane for visualization later\r\n",
        "latent_dim = 2\r\n",
        "num_examples_to_generate = 16\r\n",
        "\r\n",
        "# keeping the random vector constant for generation (prediction) so\r\n",
        "# it will be easier to see the improvement.\r\n",
        "random_vector_for_generation = tf.random.normal(\r\n",
        "    shape=[num_examples_to_generate, latent_dim])\r\n",
        "model = CVAE(latent_dim)"
      ],
      "execution_count": 8,
      "outputs": []
    },
    {
      "cell_type": "code",
      "metadata": {
        "id": "9fKoQmsbVXDr"
      },
      "source": [
        "def generate_and_save_images(model, epoch, test_sample):\r\n",
        "  mean, logvar = model.encode(test_sample)\r\n",
        "  z = model.reparameterize(mean, logvar)\r\n",
        "  predictions = model.sample(z)\r\n",
        "  fig = plt.figure(figsize=(4, 4))\r\n",
        "\r\n",
        "  for i in range(predictions.shape[0]):\r\n",
        "    plt.subplot(4, 4, i + 1)\r\n",
        "    plt.imshow(predictions[i, :, :, 0], cmap='gray')\r\n",
        "    plt.axis('off')\r\n",
        "\r\n",
        "  # tight_layout minimizes the overlap between 2 sub-plots\r\n",
        "  plt.savefig('image_at_epoch_{:04d}.png'.format(epoch))\r\n",
        "  plt.show()\r\n",
        "  "
      ],
      "execution_count": 9,
      "outputs": []
    },
    {
      "cell_type": "code",
      "metadata": {
        "id": "8WFNJXIXVZAw"
      },
      "source": [
        "# Pick a sample of the test set for generating output images\r\n",
        "assert batch_size >= num_examples_to_generate\r\n",
        "for test_batch in test_dataset.take(1):\r\n",
        "  test_sample = test_batch[0:num_examples_to_generate, :, :, :]"
      ],
      "execution_count": 10,
      "outputs": []
    },
    {
      "cell_type": "code",
      "metadata": {
        "colab": {
          "base_uri": "https://localhost:8080/",
          "height": 265
        },
        "id": "dOONCrgnVbcM",
        "outputId": "f8051c58-3e3b-4114-842b-3a84986c6d20"
      },
      "source": [
        "generate_and_save_images(model, 0, test_sample)\r\n",
        "\r\n",
        "for epoch in range(1, epochs + 1):\r\n",
        "  start_time = time.time()\r\n",
        "  for train_x in train_dataset:\r\n",
        "    train_step(model, train_x, optimizer)\r\n",
        "  end_time = time.time()\r\n",
        "\r\n",
        "  loss = tf.keras.metrics.Mean()\r\n",
        "  for test_x in test_dataset:\r\n",
        "    loss(compute_loss(model, test_x))\r\n",
        "  elbo = -loss.result()\r\n",
        "  display.clear_output(wait=False)\r\n",
        "  print('Epoch: {}, Test set ELBO: {}, time elapse for current epoch: {}'\r\n",
        "        .format(epoch, elbo, end_time - start_time))\r\n",
        "  generate_and_save_images(model, epoch, test_sample)"
      ],
      "execution_count": 11,
      "outputs": [
        {
          "output_type": "stream",
          "text": [
            "Epoch: 20, Test set ELBO: -155.2255401611328, time elapse for current epoch: 79.31286811828613\n"
          ],
          "name": "stdout"
        },
        {
          "output_type": "display_data",
          "data": {
            "image/png": "[encoded data removed]",
            "text/plain": [
              "<Figure size 288x288 with 16 Axes>"
            ]
          },
          "metadata": {
            "tags": [],
            "needs_background": "light"
          }
        }
      ]
    },
    {
      "cell_type": "code",
      "metadata": {
        "id": "ZUx4F3EgVdnT"
      },
      "source": [
        ""
      ],
      "execution_count": 11,
      "outputs": []
    }
  ]
}