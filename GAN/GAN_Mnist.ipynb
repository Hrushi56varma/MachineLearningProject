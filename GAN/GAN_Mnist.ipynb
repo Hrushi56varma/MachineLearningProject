{
  "nbformat": 4,
  "nbformat_minor": 0,
  "metadata": {
    "colab": {
      "name": "Hrushikesh_GAN.ipynb",
      "provenance": []
    },
    "kernelspec": {
      "name": "python3",
      "display_name": "Python 3"
    }
  },
  "cells": [
    {
      "cell_type": "code",
      "metadata": {
        "id": "bKlTKaIXZ74G"
      },
      "source": [
        "import numpy as np\r\n",
        "import pandas as pd\r\n",
        "import matplotlib.pyplot as plt\r\n",
        "%matplotlib inline\r\n",
        "import keras\r\n",
        "from keras.layers import Dense, Dropout, Input\r\n",
        "from keras.models import Model,Sequential\r\n",
        "from keras.datasets import mnist\r\n",
        "from tqdm import tqdm\r\n",
        "from keras.layers.advanced_activations import LeakyReLU\r\n",
        "from keras.optimizers import Adam"
      ],
      "execution_count": 1,
      "outputs": []
    },
    {
      "cell_type": "code",
      "metadata": {
        "colab": {
          "base_uri": "https://localhost:8080/"
        },
        "id": "Dnb1RCTlaDJs",
        "outputId": "1ba0f6bf-c7cc-4c3b-b5c3-efd93071dae1"
      },
      "source": [
        "def load_data():\r\n",
        "    (x_train, y_train), (x_test, y_test) = mnist.load_data()\r\n",
        "    x_train = (x_train.astype(np.float32) - 127.5)/127.5\r\n",
        "    \r\n",
        "    # convert shape of x_train from (60000, 28, 28) to (60000, 784) \r\n",
        "    # 784 columns per row\r\n",
        "    x_train = x_train.reshape(60000, 784)\r\n",
        "    return (x_train, y_train, x_test, y_test)\r\n",
        "(X_train, y_train,X_test, y_test)=load_data()\r\n",
        "print(X_train.shape)"
      ],
      "execution_count": 2,
      "outputs": [
        {
          "output_type": "stream",
          "text": [
            "Downloading data from https://storage.googleapis.com/tensorflow/tf-keras-datasets/mnist.npz\n",
            "11493376/11490434 [==============================] - 0s 0us/step\n",
            "(60000, 784)\n"
          ],
          "name": "stdout"
        }
      ]
    },
    {
      "cell_type": "code",
      "metadata": {
        "id": "CKe-PRiwaDxm"
      },
      "source": [
        "def adam_optimizer():\r\n",
        "    return Adam(lr=0.0002, beta_1=0.5)"
      ],
      "execution_count": 3,
      "outputs": []
    },
    {
      "cell_type": "code",
      "metadata": {
        "colab": {
          "base_uri": "https://localhost:8080/"
        },
        "id": "f8kYiwx5aFxK",
        "outputId": "8c2edf3a-056f-465d-ec44-1d9fd59c0517"
      },
      "source": [
        "def create_generator():\r\n",
        "    generator=Sequential()\r\n",
        "    generator.add(Dense(units=256,input_dim=100))\r\n",
        "    generator.add(LeakyReLU(0.2))\r\n",
        "    \r\n",
        "    generator.add(Dense(units=512))\r\n",
        "    generator.add(LeakyReLU(0.2))\r\n",
        "    \r\n",
        "    generator.add(Dense(units=1024))\r\n",
        "    generator.add(LeakyReLU(0.2))\r\n",
        "    \r\n",
        "    generator.add(Dense(units=784, activation='tanh'))\r\n",
        "    \r\n",
        "    generator.compile(loss='binary_crossentropy', optimizer=adam_optimizer())\r\n",
        "    return generator\r\n",
        "g=create_generator()\r\n",
        "g.summary()"
      ],
      "execution_count": 4,
      "outputs": [
        {
          "output_type": "stream",
          "text": [
            "Model: \"sequential\"\n",
            "_________________________________________________________________\n",
            "Layer (type)                 Output Shape              Param #   \n",
            "=================================================================\n",
            "dense (Dense)                (None, 256)               25856     \n",
            "_________________________________________________________________\n",
            "leaky_re_lu (LeakyReLU)      (None, 256)               0         \n",
            "_________________________________________________________________\n",
            "dense_1 (Dense)              (None, 512)               131584    \n",
            "_________________________________________________________________\n",
            "leaky_re_lu_1 (LeakyReLU)    (None, 512)               0         \n",
            "_________________________________________________________________\n",
            "dense_2 (Dense)              (None, 1024)              525312    \n",
            "_________________________________________________________________\n",
            "leaky_re_lu_2 (LeakyReLU)    (None, 1024)              0         \n",
            "_________________________________________________________________\n",
            "dense_3 (Dense)              (None, 784)               803600    \n",
            "=================================================================\n",
            "Total params: 1,486,352\n",
            "Trainable params: 1,486,352\n",
            "Non-trainable params: 0\n",
            "_________________________________________________________________\n"
          ],
          "name": "stdout"
        }
      ]
    },
    {
      "cell_type": "code",
      "metadata": {
        "colab": {
          "base_uri": "https://localhost:8080/"
        },
        "id": "O_siRodjaH46",
        "outputId": "a6acb94c-6560-463f-c488-426ed542ee47"
      },
      "source": [
        "def create_discriminator():\r\n",
        "    discriminator=Sequential()\r\n",
        "    discriminator.add(Dense(units=1024,input_dim=784))\r\n",
        "    discriminator.add(LeakyReLU(0.2))\r\n",
        "    discriminator.add(Dropout(0.3))\r\n",
        "       \r\n",
        "    \r\n",
        "    discriminator.add(Dense(units=512))\r\n",
        "    discriminator.add(LeakyReLU(0.2))\r\n",
        "    discriminator.add(Dropout(0.3))\r\n",
        "       \r\n",
        "    discriminator.add(Dense(units=256))\r\n",
        "    discriminator.add(LeakyReLU(0.2))\r\n",
        "    \r\n",
        "    discriminator.add(Dense(units=1, activation='sigmoid'))\r\n",
        "    \r\n",
        "    discriminator.compile(loss='binary_crossentropy', optimizer=adam_optimizer())\r\n",
        "    return discriminator\r\n",
        "d =create_discriminator()\r\n",
        "d.summary()"
      ],
      "execution_count": 5,
      "outputs": [
        {
          "output_type": "stream",
          "text": [
            "Model: \"sequential_1\"\n",
            "_________________________________________________________________\n",
            "Layer (type)                 Output Shape              Param #   \n",
            "=================================================================\n",
            "dense_4 (Dense)              (None, 1024)              803840    \n",
            "_________________________________________________________________\n",
            "leaky_re_lu_3 (LeakyReLU)    (None, 1024)              0         \n",
            "_________________________________________________________________\n",
            "dropout (Dropout)            (None, 1024)              0         \n",
            "_________________________________________________________________\n",
            "dense_5 (Dense)              (None, 512)               524800    \n",
            "_________________________________________________________________\n",
            "leaky_re_lu_4 (LeakyReLU)    (None, 512)               0         \n",
            "_________________________________________________________________\n",
            "dropout_1 (Dropout)          (None, 512)               0         \n",
            "_________________________________________________________________\n",
            "dense_6 (Dense)              (None, 256)               131328    \n",
            "_________________________________________________________________\n",
            "leaky_re_lu_5 (LeakyReLU)    (None, 256)               0         \n",
            "_________________________________________________________________\n",
            "dense_7 (Dense)              (None, 1)                 257       \n",
            "=================================================================\n",
            "Total params: 1,460,225\n",
            "Trainable params: 1,460,225\n",
            "Non-trainable params: 0\n",
            "_________________________________________________________________\n"
          ],
          "name": "stdout"
        }
      ]
    },
    {
      "cell_type": "code",
      "metadata": {
        "colab": {
          "base_uri": "https://localhost:8080/"
        },
        "id": "lc6xuhffaLey",
        "outputId": "a5a0375a-00b7-4c4a-9c5e-bb602d459a05"
      },
      "source": [
        "def create_gan(discriminator, generator):\r\n",
        "    discriminator.trainable=False\r\n",
        "    gan_input = Input(shape=(100,))\r\n",
        "    x = generator(gan_input)\r\n",
        "    gan_output= discriminator(x)\r\n",
        "    gan= Model(inputs=gan_input, outputs=gan_output)\r\n",
        "    gan.compile(loss='binary_crossentropy', optimizer='adam')\r\n",
        "    return gan\r\n",
        "gan = create_gan(d,g)\r\n",
        "gan.summary()"
      ],
      "execution_count": 6,
      "outputs": [
        {
          "output_type": "stream",
          "text": [
            "Model: \"functional_1\"\n",
            "_________________________________________________________________\n",
            "Layer (type)                 Output Shape              Param #   \n",
            "=================================================================\n",
            "input_1 (InputLayer)         [(None, 100)]             0         \n",
            "_________________________________________________________________\n",
            "sequential (Sequential)      (None, 784)               1486352   \n",
            "_________________________________________________________________\n",
            "sequential_1 (Sequential)    (None, 1)                 1460225   \n",
            "=================================================================\n",
            "Total params: 2,946,577\n",
            "Trainable params: 1,486,352\n",
            "Non-trainable params: 1,460,225\n",
            "_________________________________________________________________\n"
          ],
          "name": "stdout"
        }
      ]
    },
    {
      "cell_type": "code",
      "metadata": {
        "id": "2K9Ba1l7aNq6"
      },
      "source": [
        "def plot_generated_images(epoch, generator, examples=100, dim=(10,10), figsize=(10,10)):\r\n",
        "    noise= np.random.normal(loc=0, scale=1, size=[examples, 100])\r\n",
        "    generated_images = generator.predict(noise)\r\n",
        "    generated_images = generated_images.reshape(100,28,28)\r\n",
        "    plt.figure(figsize=figsize)\r\n",
        "    r = generated_images.shape[0]\r\n",
        "    # if(epoch == 4):\r\n",
        "    #   r = 100\r\n",
        "    for i in range(r):\r\n",
        "        plt.subplot(dim[0], dim[1], i+1)\r\n",
        "        plt.imshow(generated_images[i], interpolation='nearest')\r\n",
        "        plt.axis('off')\r\n",
        "    plt.tight_layout()\r\n",
        "    plt.savefig('gan_generated_image %d.png' %epoch)"
      ],
      "execution_count": 7,
      "outputs": []
    },
    {
      "cell_type": "code",
      "metadata": {
        "id": "Pmp8dlqeaP7y"
      },
      "source": [
        "def training(epochs=1, batch_size=128):\r\n",
        "    \r\n",
        "    #Loading the data\r\n",
        "    (X_train, y_train, X_test, y_test) = load_data()\r\n",
        "    batch_count = X_train.shape[0] / batch_size\r\n",
        "    \r\n",
        "    # Creating GAN\r\n",
        "    generator= create_generator()\r\n",
        "    discriminator= create_discriminator()\r\n",
        "    gan = create_gan(discriminator, generator)\r\n",
        "    \r\n",
        "    for e in range(1,epochs+1 ):\r\n",
        "        print(\"Epoch %d\" %e)\r\n",
        "        for _ in tqdm(range(batch_size)):\r\n",
        "        #generate  random noise as an input  to  initialize the  generator\r\n",
        "            noise= np.random.normal(0,1, [batch_size, 100])\r\n",
        "            \r\n",
        "            # Generate fake MNIST images from noised input\r\n",
        "            generated_images = generator.predict(noise)\r\n",
        "            \r\n",
        "            # Get a random set of  real images\r\n",
        "            image_batch =X_train[np.random.randint(low=0,high=X_train.shape[0],size=batch_size)]\r\n",
        "            \r\n",
        "            #Construct different batches of  real and fake data \r\n",
        "            X= np.concatenate([image_batch, generated_images])\r\n",
        "            \r\n",
        "            # Labels for generated and real data\r\n",
        "            y_dis=np.zeros(2*batch_size)\r\n",
        "            y_dis[:batch_size]=0.9\r\n",
        "            \r\n",
        "            #Pre train discriminator on  fake and real data  before starting the gan. \r\n",
        "            discriminator.trainable=True\r\n",
        "            discriminator.train_on_batch(X, y_dis)\r\n",
        "            \r\n",
        "            #Tricking the noised input of the Generator as real data\r\n",
        "            noise= np.random.normal(0,1, [batch_size, 100])\r\n",
        "            y_gen = np.ones(batch_size)\r\n",
        "            \r\n",
        "            # During the training of gan, \r\n",
        "            # the weights of discriminator should be fixed. \r\n",
        "            #We can enforce that by setting the trainable flag\r\n",
        "            discriminator.trainable=False\r\n",
        "            \r\n",
        "            #training  the GAN by alternating the training of the Discriminator \r\n",
        "            #and training the chained GAN model with Discriminator’s weights freezed.\r\n",
        "            gan.train_on_batch(noise, y_gen)\r\n",
        "            \r\n",
        "        if e == 1 or e % 20 == 0:\r\n",
        "           \r\n",
        "            plot_generated_images(e, generator)\r\n",
        "training(200,128)"
      ],
      "execution_count": null,
      "outputs": []
    }
  ]
}